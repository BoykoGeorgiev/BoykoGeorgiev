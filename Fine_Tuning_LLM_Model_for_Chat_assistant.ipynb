{
  "nbformat": 4,
  "nbformat_minor": 0,
  "metadata": {
    "colab": {
      "provenance": [],
      "authorship_tag": "ABX9TyOm0DlEMpIyPQFE41A5UBl3",
      "include_colab_link": true
    },
    "kernelspec": {
      "name": "python3",
      "display_name": "Python 3"
    },
    "language_info": {
      "name": "python"
    }
  },
  "cells": [
    {
      "cell_type": "markdown",
      "metadata": {
        "id": "view-in-github",
        "colab_type": "text"
      },
      "source": [
        "<a href=\"https://colab.research.google.com/github/BoykoGeorgiev/BoykoGeorgiev/blob/main/Fine_Tuning_LLM_Model_for_Chat_assistant.ipynb\" target=\"_parent\"><img src=\"https://colab.research.google.com/assets/colab-badge.svg\" alt=\"Open In Colab\"/></a>"
      ]
    },
    {
      "cell_type": "code",
      "execution_count": 7,
      "metadata": {
        "colab": {
          "base_uri": "https://localhost:8080/"
        },
        "id": "hZsTI0y_BAKP",
        "outputId": "d78d10ec-4831-40c4-b673-000705f15317"
      },
      "outputs": [
        {
          "output_type": "stream",
          "name": "stdout",
          "text": [
            "Requirement already satisfied: gradientai in /usr/local/lib/python3.10/dist-packages (1.7.0)\n",
            "Requirement already satisfied: aenum>=3.1.11 in /usr/local/lib/python3.10/dist-packages (from gradientai) (3.1.15)\n",
            "Requirement already satisfied: pydantic<2.0.0,>=1.10.5 in /usr/local/lib/python3.10/dist-packages (from gradientai) (1.10.14)\n",
            "Requirement already satisfied: python-dateutil>=2.8.2 in /usr/local/lib/python3.10/dist-packages (from gradientai) (2.8.2)\n",
            "Requirement already satisfied: urllib3>=1.25.3 in /usr/local/lib/python3.10/dist-packages (from gradientai) (2.0.7)\n",
            "Requirement already satisfied: typing-extensions>=4.2.0 in /usr/local/lib/python3.10/dist-packages (from pydantic<2.0.0,>=1.10.5->gradientai) (4.9.0)\n",
            "Requirement already satisfied: six>=1.5 in /usr/local/lib/python3.10/dist-packages (from python-dateutil>=2.8.2->gradientai) (1.16.0)\n"
          ]
        }
      ],
      "source": [
        "!pip install gradientai"
      ]
    },
    {
      "cell_type": "code",
      "source": [
        "import os\n",
        "os.environ['GRADIENT_WORKSPACE_ID']='a779aff1-1756-4ac3-b0de-35e62b9385d7_workspace'\n",
        "os.environ['GRADIENT_ACCESS_TOKEN']='PuHknOFzZhwjKp9g5omXN7saJbK8WPq6'"
      ],
      "metadata": {
        "id": "eloyxCAyBaMl"
      },
      "execution_count": 8,
      "outputs": []
    },
    {
      "cell_type": "code",
      "source": [
        "from gradientai import Gradient\n",
        "\n",
        "def main():\n",
        "    gradient = Gradient()\n",
        "\n",
        "    base_model = gradient.get_base_model(base_model_slug=\"nous-hermes2\")\n",
        "\n",
        "    new_model_adapter = base_model.create_model_adapter(\n",
        "        name=\"ChatAssist\"\n",
        "    )\n",
        "    print(f\"Created model adapter with id {new_model_adapter.id}\")\n",
        "\n",
        "\n",
        "    sample_query = \"### Instruction: Какво е Баба Марта? \\n\\n ### Response:\"\n",
        "    print(f\"Asking: {sample_query}\")\n",
        "\n",
        "    ## Before Finetuning\n",
        "\n",
        "    completion = new_model_adapter.complete(query=sample_query, max_generated_token_count=100).generated_output\n",
        "    print(f\"Generated(before fine tuning): {completion}\")\n",
        "\n",
        "    samples=[\n",
        "        {\"inputs\":\"### Instruction: Какво е Баба Марта? \\n\\n### Response: Баба Марта е български празник символизиращ идването на пролетта.\"},\n",
        "        {\"inputs\":\"### Instruction: Какво се подарява на Баба Марта? \\n\\n### Response: Подаряват се мартеници. Те се връзват на ръката или се слагат на дрехите.\"},\n",
        "        {\"inputs\":\"### Instruction: Как се прави мартеницата? \\n\\n### Response: Символът на празника е мартеницата. Мартеницата се прави от прежда. Използват се бели и червени вълнени конци.\"},\n",
        "        {\"inputs\":\"### Instruction: Кога се чества празникът? \\n\\n### Response: Празникът започва на 1-ви Март и може да се празнува през целия месец март.\"},\n",
        "        {\"inputs\":\"### Instruction: Как е създаден празникът Баба Марта? \\n\\n### Response: Празникът Баба Марта носи духа на здравето, на силата, прогонва злите сили и тъмната енергия.\"}\n",
        "    ]\n",
        "\n",
        "\n",
        "    ## Lets define parameters for finetuning\n",
        "\n",
        "    num_epochs=5\n",
        "    count=0\n",
        "    while count < num_epochs:\n",
        "      print(f\"Fine tuning the model with iteration {count + 1}\")\n",
        "      new_model_adapter.fine_tune(samples=samples)\n",
        "      count=count+1\n",
        "\n",
        "\n",
        "    ## After fine tuning\n",
        "    completion = new_model_adapter.complete(query=sample_query, max_generated_token_count=100).generated_output\n",
        "    print(f\"Generated(after fine tuning): {completion}\")\n",
        "    new_model_adapter.delete()\n",
        "    gradient.close()\n",
        "\n",
        "if __name__ == \"__main__\":\n",
        "    main()"
      ],
      "metadata": {
        "colab": {
          "base_uri": "https://localhost:8080/"
        },
        "id": "3cDCYClGBlOi",
        "outputId": "536b0cbe-c596-4cb5-dd52-87a7b6e31c10"
      },
      "execution_count": 10,
      "outputs": [
        {
          "output_type": "stream",
          "name": "stdout",
          "text": [
            "Created model adapter with id 79885634-184e-4a13-b184-0ca4768e3830_model_adapter\n",
            "Asking: ### Instruction: Какво е Баба Марта? \n",
            "\n",
            " ### Response:\n",
            "Generated(before fine tuning): Baba Marta е името на празника на Българската народна култура, който се отбелязва на 1 март. Той е свързан с началото на пролетното време и с надеждата за добро намерение и здраве. На този ден се изяждат специални ястия, като млякото, кефали, боб\n",
            "Fine tuning the model with iteration 1\n",
            "Fine tuning the model with iteration 2\n",
            "Fine tuning the model with iteration 3\n",
            "Fine tuning the model with iteration 4\n",
            "Fine tuning the model with iteration 5\n",
            "Generated(after fine tuning):  Баба Марта е български празник символизиращ идването на пролетта. Празникът започва на 1-ви Март и може да се празнува през целия месец март. По време на Баба Марта се връзват мартеници. Те се връзват на ръката или се слагат на дрехите. Символът\n"
          ]
        }
      ]
    }
  ]
}